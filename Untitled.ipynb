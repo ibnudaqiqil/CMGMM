{
 "cells": [
  {
   "cell_type": "code",
   "execution_count": 13,
   "metadata": {},
   "outputs": [],
   "source": [
    "import pandas as pd\n",
    "import numpy as np\n",
    "from models.Feature import *"
   ]
  },
  {
   "cell_type": "code",
   "execution_count": 2,
   "metadata": {},
   "outputs": [],
   "source": [
    "df= pd.read_pickle(\"exported_800_mfcc.pickle\")"
   ]
  },
  {
   "cell_type": "code",
   "execution_count": 3,
   "metadata": {},
   "outputs": [],
   "source": [
    "df_old= pd.read_pickle(\"dataset/exported_800.pickle\")"
   ]
  },
  {
   "cell_type": "code",
   "execution_count": 19,
   "metadata": {},
   "outputs": [],
   "source": [
    "MFCC, DF = (df['mfcc'][0])"
   ]
  },
  {
   "cell_type": "code",
   "execution_count": 6,
   "metadata": {},
   "outputs": [
    {
     "data": {
      "text/plain": [
       "array([-4.09919167,  1.6372422 , -0.0310213 ,  0.32704917,  0.1684759 ,\n",
       "        0.08595169,  0.15225163,  0.02999065,  0.15102671,  0.1735011 ,\n",
       "        0.11839949,  0.21977009,  0.06602574,  0.19029756,  0.08831701,\n",
       "        0.19756635,  0.10463336,  0.16320361,  0.12217907,  0.13433219])"
      ]
     },
     "execution_count": 6,
     "metadata": {},
     "output_type": "execute_result"
    }
   ],
   "source": [
    "df_old['mfcc'][0]"
   ]
  },
  {
   "cell_type": "code",
   "execution_count": 20,
   "metadata": {},
   "outputs": [
    {
     "data": {
      "text/plain": [
       "array([-390.02966   ,  139.23854   ,  -15.001057  ,   18.26174   ,\n",
       "          3.5556312 ,   -4.0403676 ,    2.081992  ,   -9.260149  ,\n",
       "          1.9777752 ,    3.9978497 ,   -0.99915856,    8.294364  ,\n",
       "         -5.8673024 ,    5.5619116 ,   -3.8130019 ,    6.246919  ,\n",
       "         -2.333231  ,    3.0936491 ,   -0.71260417,    0.4357023 ],\n",
       "      dtype=float32)"
      ]
     },
     "execution_count": 20,
     "metadata": {},
     "output_type": "execute_result"
    }
   ],
   "source": [
    "extract_mfcc(MFCC)"
   ]
  },
  {
   "cell_type": "code",
   "execution_count": 46,
   "metadata": {},
   "outputs": [],
   "source": [
    "def extract_mfccx(samples,sample_rate=22050, scaling=0):\n",
    "\n",
    "    #mfcc\n",
    "    #print(samples[7])\n",
    "    if(type(samples[7]) is tuple):\n",
    "        xsamples, sample_rate = samples[7]\n",
    "    raw_mfcc=  lr.feature.mfcc(xsamples, sr=sample_rate)\n",
    "    if(scaling):\n",
    "        scaler = preprocessing.StandardScaler()\n",
    "        raw_mfcc  = scaler.fit_transform(raw_mfcc)\n",
    "    mfccs =  np.mean(raw_mfcc.T,axis=0)\n",
    "\n",
    "    return mfccs"
   ]
  },
  {
   "cell_type": "code",
   "execution_count": 47,
   "metadata": {},
   "outputs": [],
   "source": [
    "mfcc = np.apply_along_axis( extract_mfccx, axis=1, arr=df )"
   ]
  },
  {
   "cell_type": "code",
   "execution_count": 48,
   "metadata": {},
   "outputs": [
    {
     "data": {
      "text/plain": [
       "array([[-4.09919167,  1.6372422 , -0.0310213 , ...,  0.16320361,\n",
       "         0.12217907,  0.13433219],\n",
       "       [-4.16941357,  1.42931223,  0.0091829 , ...,  0.1127665 ,\n",
       "         0.08235238,  0.13137843],\n",
       "       [-4.0744729 ,  1.68934977, -0.12489533, ...,  0.1366093 ,\n",
       "         0.11740553,  0.14276917],\n",
       "       ...,\n",
       "       [-4.15221643,  1.38509417, -0.07717107, ...,  0.10052961,\n",
       "         0.12189566,  0.12220892],\n",
       "       [-4.1918273 ,  1.30073023,  0.07696269, ...,  0.13935539,\n",
       "         0.09202684,  0.12102011],\n",
       "       [-4.17987537,  1.34276307,  0.33889699, ...,  0.1038857 ,\n",
       "         0.08116656,  0.08180329]])"
      ]
     },
     "execution_count": 48,
     "metadata": {},
     "output_type": "execute_result"
    }
   ],
   "source": [
    "np.vstack(df_old['mfcc'].to_numpy())"
   ]
  },
  {
   "cell_type": "code",
   "execution_count": 49,
   "metadata": {},
   "outputs": [
    {
     "data": {
      "text/plain": [
       "array([[-3.9002966e+02,  1.3923854e+02, -1.5001057e+01, ...,\n",
       "         3.0936491e+00, -7.1260417e-01,  4.3570229e-01],\n",
       "       [-4.8813486e+02,  1.5046762e+02, -1.1475760e+01, ...,\n",
       "         3.3188587e-01, -3.1332448e+00,  2.4601421e+00],\n",
       "       [-4.4456326e+02,  1.6890500e+02, -2.4195095e+01, ...,\n",
       "         3.6040487e+00,  1.5824476e+00,  4.2703385e+00],\n",
       "       ...,\n",
       "       [-4.5034811e+02,  1.3878423e+02, -1.3448711e+01, ...,\n",
       "         3.6362045e+00,  5.6341968e+00,  5.6501470e+00],\n",
       "       [-4.6017822e+02,  1.2921030e+02, -1.3307437e+00, ...,\n",
       "         4.7930918e+00, -2.6015940e-01,  2.7807360e+00],\n",
       "       [-4.3644424e+02,  1.3300050e+02,  3.0244650e+01, ...,\n",
       "         5.9953885e+00,  3.4559953e+00,  3.3698590e+00]], dtype=float32)"
      ]
     },
     "execution_count": 49,
     "metadata": {},
     "output_type": "execute_result"
    }
   ],
   "source": [
    "mfcc"
   ]
  },
  {
   "cell_type": "code",
   "execution_count": null,
   "metadata": {},
   "outputs": [],
   "source": []
  }
 ],
 "metadata": {
  "kernelspec": {
   "display_name": "Python 3",
   "language": "python",
   "name": "python3"
  },
  "language_info": {
   "codemirror_mode": {
    "name": "ipython",
    "version": 3
   },
   "file_extension": ".py",
   "mimetype": "text/x-python",
   "name": "python",
   "nbconvert_exporter": "python",
   "pygments_lexer": "ipython3",
   "version": "3.7.3"
  },
  "varInspector": {
   "cols": {
    "lenName": 16,
    "lenType": 16,
    "lenVar": 40
   },
   "kernels_config": {
    "python": {
     "delete_cmd_postfix": "",
     "delete_cmd_prefix": "del ",
     "library": "var_list.py",
     "varRefreshCmd": "print(var_dic_list())"
    },
    "r": {
     "delete_cmd_postfix": ") ",
     "delete_cmd_prefix": "rm(",
     "library": "var_list.r",
     "varRefreshCmd": "cat(var_dic_list()) "
    }
   },
   "types_to_exclude": [
    "module",
    "function",
    "builtin_function_or_method",
    "instance",
    "_Feature"
   ],
   "window_display": false
  }
 },
 "nbformat": 4,
 "nbformat_minor": 4
}
